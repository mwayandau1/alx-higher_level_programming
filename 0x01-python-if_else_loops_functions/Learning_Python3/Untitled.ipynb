{
 "cells": [
  {
   "cell_type": "code",
   "execution_count": 1,
   "id": "66e8687b-bdb0-4f78-bd9d-5608de22ccb0",
   "metadata": {},
   "outputs": [
    {
     "data": {
      "text/plain": [
       "'HELLO, I AM MOSES AYANDAU'"
      ]
     },
     "execution_count": 1,
     "metadata": {},
     "output_type": "execute_result"
    }
   ],
   "source": [
    "listl=\"Hello, I am Moses Ayandau\"\n",
    "listl.upper()"
   ]
  },
  {
   "cell_type": "code",
   "execution_count": 2,
   "id": "28c17c1a-2270-47d7-a328-a15d7c3c1235",
   "metadata": {},
   "outputs": [
    {
     "data": {
      "text/plain": [
       "False"
      ]
     },
     "execution_count": 2,
     "metadata": {},
     "output_type": "execute_result"
    }
   ],
   "source": [
    "listl.isalnum()"
   ]
  },
  {
   "cell_type": "code",
   "execution_count": 3,
   "id": "0552b524-1490-47f1-b629-ca1eaceaa02d",
   "metadata": {},
   "outputs": [
    {
     "data": {
      "text/plain": [
       "' Hello, I am Moses AyandauIHello, I am Moses Ayandau Hello, I am Moses AyandauaHello, I am Moses AyandaumHello, I am Moses Ayandau Hello, I am Moses AyandaucHello, I am Moses AyandauoHello, I am Moses AyandaumHello, I am Moses AyandauiHello, I am Moses AyandaunHello, I am Moses AyandaugHello, I am Moses Ayandau Hello, I am Moses AyandautHello, I am Moses AyandauoHello, I am Moses Ayandau Hello, I am Moses AyandaulHello, I am Moses AyandaueHello, I am Moses AyandauaHello, I am Moses AyandaurHello, I am Moses AyandaunHello, I am Moses Ayandau Hello, I am Moses AyandausHello, I am Moses AyandauoHello, I am Moses AyandaumHello, I am Moses AyandaueHello, I am Moses AyandautHello, I am Moses AyandauhHello, I am Moses AyandauiHello, I am Moses AyandaunHello, I am Moses AyandaugHello, I am Moses Ayandau Hello, I am Moses AyandaunHello, I am Moses AyandaueHello, I am Moses Ayandauw'"
      ]
     },
     "execution_count": 3,
     "metadata": {},
     "output_type": "execute_result"
    }
   ],
   "source": [
    "list1=\" I am coming to learn something new\"\n",
    "listl.join(list1)"
   ]
  },
  {
   "cell_type": "code",
   "execution_count": 4,
   "id": "ffd1f87a-2e29-4374-9178-dddd99ce4825",
   "metadata": {},
   "outputs": [
    {
     "data": {
      "text/plain": [
       "'Hello, I am Moses Winbood'"
      ]
     },
     "execution_count": 4,
     "metadata": {},
     "output_type": "execute_result"
    }
   ],
   "source": [
    "listl.replace(\"Ayandau\", \"Winbood\")"
   ]
  },
  {
   "cell_type": "code",
   "execution_count": 5,
   "id": "52e004f6-7bda-4ee3-9a44-b9c3a4340123",
   "metadata": {},
   "outputs": [
    {
     "data": {
      "text/plain": [
       "'Hello, I am Moses Ayandau'"
      ]
     },
     "execution_count": 5,
     "metadata": {},
     "output_type": "execute_result"
    }
   ],
   "source": [
    "listl.strip(\"Moses\")"
   ]
  },
  {
   "cell_type": "code",
   "execution_count": 7,
   "id": "f6bdaa09-0411-4ada-8415-0d3dac8bd514",
   "metadata": {},
   "outputs": [
    {
     "data": {
      "text/plain": [
       "1"
      ]
     },
     "execution_count": 7,
     "metadata": {},
     "output_type": "execute_result"
    }
   ],
   "source": [
    "listl.count(listl)"
   ]
  },
  {
   "cell_type": "code",
   "execution_count": 8,
   "id": "682b2b3d-62c9-425a-9721-4ab93c0d99c7",
   "metadata": {},
   "outputs": [
    {
     "data": {
      "text/plain": [
       "12"
      ]
     },
     "execution_count": 8,
     "metadata": {},
     "output_type": "execute_result"
    }
   ],
   "source": [
    "listl.find(\"Moses\")"
   ]
  },
  {
   "cell_type": "code",
   "execution_count": 12,
   "id": "7de09926-49b7-4d20-8e30-9e38c44928ac",
   "metadata": {},
   "outputs": [
    {
     "data": {
      "text/plain": [
       "[6,\n",
       " 8,\n",
       " 10,\n",
       " 12,\n",
       " 9,\n",
       " 12,\n",
       " 15,\n",
       " 18,\n",
       " 12,\n",
       " 16,\n",
       " 20,\n",
       " 24,\n",
       " 15,\n",
       " 20,\n",
       " 25,\n",
       " 30,\n",
       " 12,\n",
       " 16,\n",
       " 20,\n",
       " 24,\n",
       " 18,\n",
       " 24,\n",
       " 30,\n",
       " 36,\n",
       " 24,\n",
       " 32,\n",
       " 40,\n",
       " 48,\n",
       " 30,\n",
       " 40,\n",
       " 50,\n",
       " 60,\n",
       " 18,\n",
       " 24,\n",
       " 30,\n",
       " 36,\n",
       " 27,\n",
       " 36,\n",
       " 45,\n",
       " 54,\n",
       " 36,\n",
       " 48,\n",
       " 60,\n",
       " 72,\n",
       " 45,\n",
       " 60,\n",
       " 75,\n",
       " 90,\n",
       " 24,\n",
       " 32,\n",
       " 40,\n",
       " 48,\n",
       " 36,\n",
       " 48,\n",
       " 60,\n",
       " 72,\n",
       " 48,\n",
       " 64,\n",
       " 80,\n",
       " 96,\n",
       " 60,\n",
       " 80,\n",
       " 100,\n",
       " 120]"
      ]
     },
     "execution_count": 12,
     "metadata": {},
     "output_type": "execute_result"
    }
   ],
   "source": [
    "list2=[[1,2,3,4],[2,3,4,5],[3,4,5,6]]\n",
    "[i*j*k for i in list2[0] for j in list2[1] for k in list2[2]]"
   ]
  },
  {
   "cell_type": "code",
   "execution_count": 14,
   "id": "7f018619-53d2-4f2f-9560-4b9be5ce3dee",
   "metadata": {},
   "outputs": [
    {
     "data": {
      "text/plain": [
       "[['I', 1],\n",
       " [' ', 1],\n",
       " ['a', 1],\n",
       " ['m', 1],\n",
       " [' ', 1],\n",
       " ['M', 1],\n",
       " ['o', 1],\n",
       " ['s', 1],\n",
       " ['e', 1],\n",
       " ['s', 1],\n",
       " [' ', 1],\n",
       " ['A', 1],\n",
       " ['y', 1],\n",
       " ['a', 1],\n",
       " ['n', 1],\n",
       " ['d', 1],\n",
       " ['a', 1],\n",
       " ['u', 1],\n",
       " [' ', 1]]"
      ]
     },
     "execution_count": 14,
     "metadata": {},
     "output_type": "execute_result"
    }
   ],
   "source": [
    "string=\"I am Moses Ayandau \"\n",
    "[[word, len(word)] for word in string]"
   ]
  },
  {
   "cell_type": "code",
   "execution_count": 21,
   "id": "c9155ebc-19c8-45b4-8836-bba3ffad6a83",
   "metadata": {},
   "outputs": [
    {
     "name": "stdout",
     "output_type": "stream",
     "text": [
      "[0, 8, 16, 24, 32, 40, 48, 56, 64, 72, 80, 88, 96, 104, 112, 120]\n",
      "[0, 8, 16, 24, 32, 40, 48, 56, 64, 72, 80, 88, 96, 104, 112, 120]\n"
     ]
    }
   ],
   "source": [
    "def f1(x): return x*2\n",
    "def f2(x): return x*4\n",
    "lst = []\n",
    "for i in range(16):\n",
    "    lst.append(f1(f2(i)))\n",
    "print(lst)\n",
    "print([f1(x) for x in range(64) if x in [f2(j) for j in range(16)]]) "
   ]
  },
  {
   "cell_type": "code",
   "execution_count": 24,
   "id": "bb5aa2f2-0d1a-4959-af87-a4cceb350aea",
   "metadata": {},
   "outputs": [
    {
     "data": {
      "text/plain": [
       "[1, 16, 81, 256, 625]"
      ]
     },
     "execution_count": 24,
     "metadata": {},
     "output_type": "execute_result"
    }
   ],
   "source": [
    "lst=[1,2,3,4,5]\n",
    "list(map(lambda i:i**4,lst))"
   ]
  },
  {
   "cell_type": "code",
   "execution_count": 28,
   "id": "a0a2429f-d1ea-495f-8d26-24b34b583970",
   "metadata": {},
   "outputs": [
    {
     "data": {
      "text/plain": [
       "[4, 5]"
      ]
     },
     "execution_count": 28,
     "metadata": {},
     "output_type": "execute_result"
    }
   ],
   "source": [
    "list(filter(lambda i:i>3,lst))"
   ]
  },
  {
   "cell_type": "code",
   "execution_count": 30,
   "id": "fba86b97-d34f-4c0a-802d-cef5b76320b9",
   "metadata": {},
   "outputs": [
    {
     "data": {
      "text/plain": [
       "['i', 'but', 'Many', 'know', 'them', 'things', 'cannot', 'implement']"
      ]
     },
     "execution_count": 30,
     "metadata": {},
     "output_type": "execute_result"
    }
   ],
   "source": [
    "wd=str.split(\"Many things i know but cannot implement them\")\n",
    "sorted(wd, key=len)"
   ]
  },
  {
   "cell_type": "code",
   "execution_count": 34,
   "id": "6567485a-9d12-47cd-a0eb-c18bd70ab504",
   "metadata": {},
   "outputs": [
    {
     "name": "stdout",
     "output_type": "stream",
     "text": [
      "Low\n",
      "Low\n",
      "Low\n"
     ]
    }
   ],
   "source": [
    "def recursive1(low, high):\n",
    "    if low<high:\n",
    "        print(\"Low\")\n",
    "        recursive1(low+1, high)\n",
    "recursive1(2, 5)\n",
    "        "
   ]
  },
  {
   "cell_type": "code",
   "execution_count": null,
   "id": "f5b12dd1-fcea-4d73-aa6d-07a8cd5dfa30",
   "metadata": {},
   "outputs": [],
   "source": []
  },
  {
   "cell_type": "code",
   "execution_count": null,
   "id": "9e585d26-6de8-4a44-b300-4d0731eca827",
   "metadata": {},
   "outputs": [],
   "source": []
  },
  {
   "cell_type": "code",
   "execution_count": null,
   "id": "c19257f8-de8d-42d2-baa5-b68d8f25b24f",
   "metadata": {},
   "outputs": [],
   "source": []
  },
  {
   "cell_type": "code",
   "execution_count": null,
   "id": "6a357de1-5baa-4dae-9b69-59c145c82ed6",
   "metadata": {},
   "outputs": [],
   "source": []
  },
  {
   "cell_type": "code",
   "execution_count": null,
   "id": "703f9730-a041-45d7-8237-d3aa1c518828",
   "metadata": {},
   "outputs": [],
   "source": []
  },
  {
   "cell_type": "code",
   "execution_count": null,
   "id": "fff81628-7346-419d-9c22-c6f1ccda810e",
   "metadata": {},
   "outputs": [],
   "source": []
  },
  {
   "cell_type": "code",
   "execution_count": null,
   "id": "b9ab3a96-402b-4ee7-bb10-56d53135af32",
   "metadata": {},
   "outputs": [],
   "source": []
  },
  {
   "cell_type": "code",
   "execution_count": null,
   "id": "51531f66-16c6-44a1-9b30-dc984e00646c",
   "metadata": {},
   "outputs": [],
   "source": []
  },
  {
   "cell_type": "code",
   "execution_count": null,
   "id": "1d72d97f-d4a3-4eae-b0af-f280598f553e",
   "metadata": {},
   "outputs": [],
   "source": []
  },
  {
   "cell_type": "code",
   "execution_count": null,
   "id": "fcfd235c-1097-4f0a-97fc-9b62115352af",
   "metadata": {},
   "outputs": [],
   "source": []
  }
 ],
 "metadata": {
  "kernelspec": {
   "display_name": "Python 3 (ipykernel)",
   "language": "python",
   "name": "python3"
  },
  "language_info": {
   "codemirror_mode": {
    "name": "ipython",
    "version": 3
   },
   "file_extension": ".py",
   "mimetype": "text/x-python",
   "name": "python",
   "nbconvert_exporter": "python",
   "pygments_lexer": "ipython3",
   "version": "3.9.13"
  }
 },
 "nbformat": 4,
 "nbformat_minor": 5
}
